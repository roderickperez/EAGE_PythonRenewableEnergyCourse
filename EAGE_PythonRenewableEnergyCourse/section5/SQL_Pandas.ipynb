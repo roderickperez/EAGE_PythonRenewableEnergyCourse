{
 "cells": [
  {
   "cell_type": "markdown",
   "metadata": {},
   "source": [
    "# SQL + Pandas"
   ]
  },
  {
   "cell_type": "markdown",
   "metadata": {},
   "source": [
    "In this section we will cover a step-by-step example to integrate the energy production data stored in a database (SQLite) and then using Python to analyze and plot the data. This guide walks through each step, from loading CSV data into an SQLite database to querying and plotting the energy production data for different countries.\n",
    "\n",
    "This sections includes downloading the data from individual `.csv` files, loading them into a SQLite database, and visualizing the energy production using Python.\n",
    "\n",
    "This guide shows how to:\n",
    "1. Download CSV files from Eurostat.\n",
    "2. Load data into a SQLite database.\n",
    "3. Use Python to query and visualize the data."
   ]
  },
  {
   "cell_type": "markdown",
   "metadata": {},
   "source": [
    "## Step 1: Download the Data from Eurostat\n",
    "\n",
    "The datasets are available on the Eurostat website under [Energy Statistics](https://ec.europa.eu/eurostat/web/energy). Let’s assume the data files have been downloaded and stored in your `~/Downloads` folder as `.csv` files.\n",
    "\n",
    "For this example, we are using the following datasets:"
   ]
  },
  {
   "cell_type": "code",
   "execution_count": 18,
   "metadata": {},
   "outputs": [],
   "source": [
    "import numpy as np\n",
    "import pandas as pd\n",
    "import sqlite3\n",
    "import os"
   ]
  },
  {
   "cell_type": "code",
   "execution_count": 8,
   "metadata": {},
   "outputs": [],
   "source": [
    "euroStat_coal_filePath = '../data/section4/euroStat/nrg_cb_pem_page_spreadsheet_coal.xlsx'\n",
    "euroStat_nonRenewables_filePath = '../data/section4/euroStat/nrg_cb_pem_page_spreadsheet_combustionFuels_nonRenewables.xlsx'\n",
    "euroStat_renewables_filePath = '../data/section4/euroStat/nrg_cb_pem_page_spreadsheet_combustionFuels_Renewables.xlsx'\n",
    "euroStat_geothermal_filePath = '../data/section4/euroStat/nrg_cb_pem_page_spreadsheet_geothermal.xlsx'\n",
    "euroStat_hydro_filePath = '../data/section4/euroStat/nrg_cb_pem_page_spreadsheet_hydro.xlsx'\n",
    "euroStat_naturalGas_filePath = '../data/section4/euroStat/nrg_cb_pem_page_spreadsheet_naturalGas.xlsx'\n",
    "euroStat_nuclear_filePath = '../data/section4/euroStat/nrg_cb_pem_page_spreadsheet_nuclear.xlsx'\n",
    "euroStat_oil_filePath = '../data/section4/euroStat/nrg_cb_pem_page_spreadsheet_oil.xlsx'\n",
    "euro_otherRenewables_filePath = '../data/section4/euroStat/nrg_cb_pem_page_spreadsheet_otherRenewables.xlsx'\n",
    "euroStat_solar_filePath = '../data/section4/euroStat/nrg_cb_pem_page_spreadsheet_solar.xlsx'\n",
    "euroStat_wind_filePath = '../data/section4/euroStat/nrg_cb_pem_page_spreadsheet_wind.xlsx'"
   ]
  },
  {
   "cell_type": "markdown",
   "metadata": {},
   "source": [
    "## Step 2: Load Data into SQLite Database\n",
    "\n",
    "We'll now read the downloaded CSV files, clean the data, and store them in an SQLite database.\n"
   ]
  },
  {
   "cell_type": "markdown",
   "metadata": {},
   "source": [
    "### Python Code for Loading CSV Files into SQLite"
   ]
  },
  {
   "cell_type": "code",
   "execution_count": 9,
   "metadata": {},
   "outputs": [],
   "source": [
    "# Load .xlsx file\n",
    "euroStat_coal = pd.read_excel(euroStat_coal_filePath, sheet_name='coal', skiprows=range(0, 8))\n",
    "euroStat_nonRenewables = pd.read_excel(euroStat_nonRenewables_filePath, sheet_name='nonRenewables', skiprows=range(0, 8))\n",
    "euroStat_renewables = pd.read_excel(euroStat_renewables_filePath, sheet_name='renewables', skiprows=range(0, 8))\n",
    "euroStat_geothermal = pd.read_excel(euroStat_geothermal_filePath, sheet_name='geothermal', skiprows=range(0, 8))\n",
    "euroStat_hydro = pd.read_excel(euroStat_hydro_filePath, sheet_name='hydro', skiprows=range(0, 8))\n",
    "euroStat_naturalGas = pd.read_excel(euroStat_naturalGas_filePath, sheet_name='naturalGas', skiprows=range(0, 8))\n",
    "euroStat_nuclear = pd.read_excel(euroStat_nuclear_filePath, sheet_name='nuclear', skiprows=range(0, 8))\n",
    "euroStat_oil = pd.read_excel(euroStat_oil_filePath, sheet_name='oil', skiprows=range(0, 8))\n",
    "euro_otherRenewables = pd.read_excel(euro_otherRenewables_filePath, sheet_name='otherRenewables', skiprows=range(0, 8))\n",
    "euroStat_solar = pd.read_excel(euroStat_solar_filePath, sheet_name='solar', skiprows=range(0, 8))\n",
    "euroStat_wind = pd.read_excel(euroStat_wind_filePath, sheet_name='wind', skiprows=range(0, 8))\n"
   ]
  },
  {
   "cell_type": "code",
   "execution_count": 10,
   "metadata": {},
   "outputs": [
    {
     "data": {
      "text/html": [
       "<div>\n",
       "<style scoped>\n",
       "    .dataframe tbody tr th:only-of-type {\n",
       "        vertical-align: middle;\n",
       "    }\n",
       "\n",
       "    .dataframe tbody tr th {\n",
       "        vertical-align: top;\n",
       "    }\n",
       "\n",
       "    .dataframe thead th {\n",
       "        text-align: right;\n",
       "    }\n",
       "</style>\n",
       "<table border=\"1\" class=\"dataframe\">\n",
       "  <thead>\n",
       "    <tr style=\"text-align: right;\">\n",
       "      <th></th>\n",
       "      <th>TIME</th>\n",
       "      <th>2016-01</th>\n",
       "      <th>Unnamed: 2</th>\n",
       "      <th>2016-02</th>\n",
       "      <th>Unnamed: 4</th>\n",
       "      <th>2016-03</th>\n",
       "      <th>Unnamed: 6</th>\n",
       "      <th>2016-04</th>\n",
       "      <th>Unnamed: 8</th>\n",
       "      <th>2016-05</th>\n",
       "      <th>...</th>\n",
       "      <th>Unnamed: 196</th>\n",
       "      <th>2024-03</th>\n",
       "      <th>Unnamed: 198</th>\n",
       "      <th>2024-04</th>\n",
       "      <th>Unnamed: 200</th>\n",
       "      <th>2024-05</th>\n",
       "      <th>Unnamed: 202</th>\n",
       "      <th>2024-06</th>\n",
       "      <th>Unnamed: 204</th>\n",
       "      <th>2024-07</th>\n",
       "    </tr>\n",
       "  </thead>\n",
       "  <tbody>\n",
       "    <tr>\n",
       "      <th>0</th>\n",
       "      <td>GEO (Labels)</td>\n",
       "      <td>NaN</td>\n",
       "      <td>NaN</td>\n",
       "      <td>NaN</td>\n",
       "      <td>NaN</td>\n",
       "      <td>NaN</td>\n",
       "      <td>NaN</td>\n",
       "      <td>NaN</td>\n",
       "      <td>NaN</td>\n",
       "      <td>NaN</td>\n",
       "      <td>...</td>\n",
       "      <td>NaN</td>\n",
       "      <td>NaN</td>\n",
       "      <td>NaN</td>\n",
       "      <td>NaN</td>\n",
       "      <td>NaN</td>\n",
       "      <td>NaN</td>\n",
       "      <td>NaN</td>\n",
       "      <td>NaN</td>\n",
       "      <td>NaN</td>\n",
       "      <td>NaN</td>\n",
       "    </tr>\n",
       "    <tr>\n",
       "      <th>1</th>\n",
       "      <td>European Union - 27 countries (from 2020)</td>\n",
       "      <td>:</td>\n",
       "      <td>NaN</td>\n",
       "      <td>:</td>\n",
       "      <td>NaN</td>\n",
       "      <td>:</td>\n",
       "      <td>NaN</td>\n",
       "      <td>:</td>\n",
       "      <td>NaN</td>\n",
       "      <td>:</td>\n",
       "      <td>...</td>\n",
       "      <td>NaN</td>\n",
       "      <td>23110.523</td>\n",
       "      <td>NaN</td>\n",
       "      <td>:</td>\n",
       "      <td>NaN</td>\n",
       "      <td>:</td>\n",
       "      <td>NaN</td>\n",
       "      <td>:</td>\n",
       "      <td>NaN</td>\n",
       "      <td>:</td>\n",
       "    </tr>\n",
       "    <tr>\n",
       "      <th>2</th>\n",
       "      <td>Belgium</td>\n",
       "      <td>:</td>\n",
       "      <td>NaN</td>\n",
       "      <td>:</td>\n",
       "      <td>NaN</td>\n",
       "      <td>:</td>\n",
       "      <td>NaN</td>\n",
       "      <td>:</td>\n",
       "      <td>NaN</td>\n",
       "      <td>:</td>\n",
       "      <td>...</td>\n",
       "      <td>NaN</td>\n",
       "      <td>160.492</td>\n",
       "      <td>NaN</td>\n",
       "      <td>168.435</td>\n",
       "      <td>NaN</td>\n",
       "      <td>179.131</td>\n",
       "      <td>NaN</td>\n",
       "      <td>:</td>\n",
       "      <td>NaN</td>\n",
       "      <td>:</td>\n",
       "    </tr>\n",
       "    <tr>\n",
       "      <th>3</th>\n",
       "      <td>Bulgaria</td>\n",
       "      <td>:</td>\n",
       "      <td>NaN</td>\n",
       "      <td>:</td>\n",
       "      <td>NaN</td>\n",
       "      <td>:</td>\n",
       "      <td>NaN</td>\n",
       "      <td>:</td>\n",
       "      <td>NaN</td>\n",
       "      <td>:</td>\n",
       "      <td>...</td>\n",
       "      <td>NaN</td>\n",
       "      <td>519.203</td>\n",
       "      <td>NaN</td>\n",
       "      <td>360.31</td>\n",
       "      <td>NaN</td>\n",
       "      <td>290.517</td>\n",
       "      <td>NaN</td>\n",
       "      <td>:</td>\n",
       "      <td>NaN</td>\n",
       "      <td>:</td>\n",
       "    </tr>\n",
       "    <tr>\n",
       "      <th>4</th>\n",
       "      <td>Czechia</td>\n",
       "      <td>:</td>\n",
       "      <td>NaN</td>\n",
       "      <td>:</td>\n",
       "      <td>NaN</td>\n",
       "      <td>:</td>\n",
       "      <td>NaN</td>\n",
       "      <td>:</td>\n",
       "      <td>NaN</td>\n",
       "      <td>:</td>\n",
       "      <td>...</td>\n",
       "      <td>NaN</td>\n",
       "      <td>2159.708</td>\n",
       "      <td>NaN</td>\n",
       "      <td>1550.964</td>\n",
       "      <td>NaN</td>\n",
       "      <td>1480.491</td>\n",
       "      <td>NaN</td>\n",
       "      <td>:</td>\n",
       "      <td>NaN</td>\n",
       "      <td>:</td>\n",
       "    </tr>\n",
       "  </tbody>\n",
       "</table>\n",
       "<p>5 rows × 206 columns</p>\n",
       "</div>"
      ],
      "text/plain": [
       "                                        TIME 2016-01  Unnamed: 2 2016-02  \\\n",
       "0                               GEO (Labels)     NaN         NaN     NaN   \n",
       "1  European Union - 27 countries (from 2020)       :         NaN       :   \n",
       "2                                    Belgium       :         NaN       :   \n",
       "3                                   Bulgaria       :         NaN       :   \n",
       "4                                    Czechia       :         NaN       :   \n",
       "\n",
       "   Unnamed: 4 2016-03  Unnamed: 6 2016-04  Unnamed: 8 2016-05  ...  \\\n",
       "0         NaN     NaN         NaN     NaN         NaN     NaN  ...   \n",
       "1         NaN       :         NaN       :         NaN       :  ...   \n",
       "2         NaN       :         NaN       :         NaN       :  ...   \n",
       "3         NaN       :         NaN       :         NaN       :  ...   \n",
       "4         NaN       :         NaN       :         NaN       :  ...   \n",
       "\n",
       "   Unnamed: 196    2024-03  Unnamed: 198   2024-04  Unnamed: 200   2024-05  \\\n",
       "0           NaN        NaN           NaN       NaN           NaN       NaN   \n",
       "1           NaN  23110.523           NaN         :           NaN         :   \n",
       "2           NaN    160.492           NaN   168.435           NaN   179.131   \n",
       "3           NaN    519.203           NaN    360.31           NaN   290.517   \n",
       "4           NaN   2159.708           NaN  1550.964           NaN  1480.491   \n",
       "\n",
       "   Unnamed: 202 2024-06  Unnamed: 204 2024-07  \n",
       "0           NaN     NaN           NaN     NaN  \n",
       "1           NaN       :           NaN       :  \n",
       "2           NaN       :           NaN       :  \n",
       "3           NaN       :           NaN       :  \n",
       "4           NaN       :           NaN       :  \n",
       "\n",
       "[5 rows x 206 columns]"
      ]
     },
     "execution_count": 10,
     "metadata": {},
     "output_type": "execute_result"
    }
   ],
   "source": [
    "euroStat_coal.head()"
   ]
  },
  {
   "cell_type": "code",
   "execution_count": 11,
   "metadata": {},
   "outputs": [],
   "source": [
    "# Connect to SQLite database (it will be created if it doesn't exist)\n",
    "conn = sqlite3.connect(db_path)\n",
    "cursor = conn.cursor()"
   ]
  },
  {
   "cell_type": "code",
   "execution_count": 12,
   "metadata": {},
   "outputs": [
    {
     "data": {
      "text/plain": [
       "50"
      ]
     },
     "execution_count": 12,
     "metadata": {},
     "output_type": "execute_result"
    }
   ],
   "source": [
    "# Add the euroStat_coal dataset to the database using SQL\n",
    "euroStat_coal.to_sql('euroStat_coal', conn, if_exists='replace', index=False)"
   ]
  },
  {
   "cell_type": "code",
   "execution_count": 13,
   "metadata": {},
   "outputs": [
    {
     "name": "stdout",
     "output_type": "stream",
     "text": [
      "The 'euroStat_coal' table exists in the database.\n"
     ]
    }
   ],
   "source": [
    "\n",
    "# Check if euroStat_coal table exists in the database\n",
    "cursor.execute(\"SELECT name FROM sqlite_master WHERE type='table' AND name='euroStat_coal';\")\n",
    "table_exists = cursor.fetchone()\n",
    "\n",
    "if table_exists:\n",
    "    print(\"The 'euroStat_coal' table exists in the database.\")\n",
    "else:\n",
    "    print(\"The 'euroStat_coal' table does not exist in the database.\")"
   ]
  },
  {
   "cell_type": "code",
   "execution_count": 14,
   "metadata": {},
   "outputs": [
    {
     "name": "stdout",
     "output_type": "stream",
     "text": [
      "                                        TIME 2016-01 Unnamed: 2 2016-02  \\\n",
      "0                               GEO (Labels)    None       None    None   \n",
      "1  European Union - 27 countries (from 2020)       :       None       :   \n",
      "2                                    Belgium       :       None       :   \n",
      "3                                   Bulgaria       :       None       :   \n",
      "4                                    Czechia       :       None       :   \n",
      "\n",
      "  Unnamed: 4 2016-03 Unnamed: 6 2016-04 Unnamed: 8 2016-05  ... Unnamed: 196  \\\n",
      "0       None    None       None    None       None    None  ...         None   \n",
      "1       None       :       None       :       None       :  ...         None   \n",
      "2       None       :       None       :       None       :  ...         None   \n",
      "3       None       :       None       :       None       :  ...         None   \n",
      "4       None       :       None       :       None       :  ...         None   \n",
      "\n",
      "     2024-03 Unnamed: 198   2024-04 Unnamed: 200   2024-05 Unnamed: 202  \\\n",
      "0       None         None      None         None      None         None   \n",
      "1  23110.523         None         :         None         :         None   \n",
      "2    160.492         None   168.435         None   179.131         None   \n",
      "3    519.203         None    360.31         None   290.517         None   \n",
      "4   2159.708         None  1550.964         None  1480.491         None   \n",
      "\n",
      "  2024-06 Unnamed: 204 2024-07  \n",
      "0    None         None    None  \n",
      "1       :         None       :  \n",
      "2       :         None       :  \n",
      "3       :         None       :  \n",
      "4       :         None       :  \n",
      "\n",
      "[5 rows x 206 columns]\n"
     ]
    }
   ],
   "source": [
    "# Query the first few rows from the euroStat_coal table\n",
    "df_coal = pd.read_sql_query(\"SELECT * FROM euroStat_coal LIMIT 5;\", conn)\n",
    "\n",
    "# Display the data\n",
    "print(df_coal)"
   ]
  },
  {
   "cell_type": "markdown",
   "metadata": {},
   "source": [
    "Now, to remove rows 0 and 1 from the euroStat_coal table in your SQLite database, you can use the following steps:\n",
    "\n",
    "* **Step 1**: Remove Row 0 and Row 1 from the `euroStat_coal` Table\n",
    "\n",
    "Assuming you have an ID or unique identifier in the table, we can use DELETE SQL commands to remove rows based on their identifiers (e.g., row numbers). If there is no ID, we can modify the DataFrame in Pandas and replace the table in the database.\n",
    "\n",
    "Since your description does not specify the unique column to identify rows 0 and 1, I’ll use the Pandas method to drop rows and re-insert the cleaned table."
   ]
  },
  {
   "cell_type": "code",
   "execution_count": 15,
   "metadata": {},
   "outputs": [
    {
     "name": "stdout",
     "output_type": "stream",
     "text": [
      "       TIME 2016-01  Unnamed: 2 2016-02  Unnamed: 4 2016-03  Unnamed: 6  \\\n",
      "2   Belgium       :         NaN       :         NaN       :         NaN   \n",
      "3  Bulgaria       :         NaN       :         NaN       :         NaN   \n",
      "4   Czechia       :         NaN       :         NaN       :         NaN   \n",
      "5   Denmark       :         NaN       :         NaN       :         NaN   \n",
      "6   Germany       :         NaN       :         NaN       :         NaN   \n",
      "\n",
      "  2016-04  Unnamed: 8 2016-05  ...  Unnamed: 196   2024-03  Unnamed: 198  \\\n",
      "2       :         NaN       :  ...           NaN   160.492           NaN   \n",
      "3       :         NaN       :  ...           NaN   519.203           NaN   \n",
      "4       :         NaN       :  ...           NaN  2159.708           NaN   \n",
      "5       :         NaN       :  ...           NaN   276.518           NaN   \n",
      "6       :         NaN       :  ...             e  8758.996             e   \n",
      "\n",
      "    2024-04  Unnamed: 200   2024-05  Unnamed: 202 2024-06  Unnamed: 204  \\\n",
      "2   168.435           NaN   179.131           NaN       :           NaN   \n",
      "3    360.31           NaN   290.517           NaN       :           NaN   \n",
      "4  1550.964           NaN  1480.491           NaN       :           NaN   \n",
      "5   148.599           NaN   100.237           NaN  82.366           NaN   \n",
      "6   6004.85             e    5838.8             e       :           NaN   \n",
      "\n",
      "  2024-07  \n",
      "2       :  \n",
      "3       :  \n",
      "4       :  \n",
      "5       :  \n",
      "6       :  \n",
      "\n",
      "[5 rows x 206 columns]\n"
     ]
    }
   ],
   "source": [
    "# Drop the first two rows (index 0 and 1) from the dataframe\n",
    "euroStat_coal_cleaned = euroStat_coal.drop([0, 1])\n",
    "\n",
    "# Display the cleaned data\n",
    "print(euroStat_coal_cleaned.head())"
   ]
  },
  {
   "cell_type": "markdown",
   "metadata": {},
   "source": [
    "*  **Step 2**: Replace the euroStat_coal Table in the SQLite Database\n",
    "\n",
    "After removing the first two rows, we can replace the existing euroStat_coal table with the cleaned DataFrame."
   ]
  },
  {
   "cell_type": "code",
   "execution_count": 16,
   "metadata": {},
   "outputs": [],
   "source": [
    "# Replace the table in the SQLite database with the cleaned data\n",
    "euroStat_coal_cleaned.to_sql('euroStat_coal', conn, if_exists='replace', index=False)\n",
    "\n",
    "# Commit the changes\n",
    "conn.commit()"
   ]
  },
  {
   "cell_type": "markdown",
   "metadata": {},
   "source": [
    "* **Step 3**: Query the First Few Rows from the euroStat_coal Table and Display the Data\n",
    "\n",
    "Now that the first two rows have been removed, you can query the table and display the first few rows to confirm."
   ]
  },
  {
   "cell_type": "code",
   "execution_count": 17,
   "metadata": {},
   "outputs": [
    {
     "name": "stdout",
     "output_type": "stream",
     "text": [
      "       TIME 2016-01 Unnamed: 2 2016-02 Unnamed: 4 2016-03 Unnamed: 6 2016-04  \\\n",
      "0   Belgium       :       None       :       None       :       None       :   \n",
      "1  Bulgaria       :       None       :       None       :       None       :   \n",
      "2   Czechia       :       None       :       None       :       None       :   \n",
      "3   Denmark       :       None       :       None       :       None       :   \n",
      "4   Germany       :       None       :       None       :       None       :   \n",
      "\n",
      "  Unnamed: 8 2016-05  ... Unnamed: 196   2024-03 Unnamed: 198   2024-04  \\\n",
      "0       None       :  ...         None   160.492         None   168.435   \n",
      "1       None       :  ...         None   519.203         None    360.31   \n",
      "2       None       :  ...         None  2159.708         None  1550.964   \n",
      "3       None       :  ...         None   276.518         None   148.599   \n",
      "4       None       :  ...            e  8758.996            e   6004.85   \n",
      "\n",
      "  Unnamed: 200   2024-05 Unnamed: 202 2024-06 Unnamed: 204 2024-07  \n",
      "0         None   179.131         None       :         None       :  \n",
      "1         None   290.517         None       :         None       :  \n",
      "2         None  1480.491         None       :         None       :  \n",
      "3         None   100.237         None  82.366         None       :  \n",
      "4            e    5838.8            e       :         None       :  \n",
      "\n",
      "[5 rows x 206 columns]\n"
     ]
    }
   ],
   "source": [
    "# Query the first few rows from the cleaned euroStat_coal table\n",
    "df_coal_cleaned = pd.read_sql_query(\"SELECT * FROM euroStat_coal LIMIT 5;\", conn)\n",
    "\n",
    "# Display the data\n",
    "print(df_coal_cleaned)"
   ]
  },
  {
   "cell_type": "markdown",
   "metadata": {},
   "source": [
    "* **Step 4**: Drop Columns with Names Starting with “Unnamed”\n",
    "\n",
    "You can use the Pandas filter function along with drop to remove columns whose names start with “Unnamed”:"
   ]
  },
  {
   "cell_type": "code",
   "execution_count": 19,
   "metadata": {},
   "outputs": [
    {
     "name": "stdout",
     "output_type": "stream",
     "text": [
      "       TIME 2016-01 2016-02 2016-03 2016-04 2016-05 2016-06 2016-07 2016-08  \\\n",
      "2   Belgium       :       :       :       :       :       :       :       :   \n",
      "3  Bulgaria       :       :       :       :       :       :       :       :   \n",
      "4   Czechia       :       :       :       :       :       :       :       :   \n",
      "5   Denmark       :       :       :       :       :       :       :       :   \n",
      "6   Germany       :       :       :       :       :       :       :       :   \n",
      "\n",
      "  2016-09  ...   2023-10    2023-11    2023-12    2024-01   2024-02   2024-03  \\\n",
      "2       :  ...    70.669      64.24    100.765    152.345   175.176   160.492   \n",
      "3       :  ...   781.035    871.225   1043.759    905.171   583.303   519.203   \n",
      "4       :  ...  2610.974   2753.006   2762.875   2590.198  2245.389  2159.708   \n",
      "5       :  ...    44.275    226.176    257.861    392.265    248.43   276.518   \n",
      "6       :  ...  9674.588  10947.152  10597.592  10536.739  8501.007  8758.996   \n",
      "\n",
      "    2024-04   2024-05 2024-06 2024-07  \n",
      "2   168.435   179.131       :       :  \n",
      "3    360.31   290.517       :       :  \n",
      "4  1550.964  1480.491       :       :  \n",
      "5   148.599   100.237  82.366       :  \n",
      "6   6004.85    5838.8       :       :  \n",
      "\n",
      "[5 rows x 104 columns]\n"
     ]
    }
   ],
   "source": [
    "# Drop columns where the column name starts with 'Unnamed'\n",
    "euroStat_coal_cleaned = euroStat_coal_cleaned.loc[:, ~euroStat_coal_cleaned.columns.str.startswith('Unnamed')]\n",
    "\n",
    "# Display the DataFrame after removing 'Unnamed' columns\n",
    "print(euroStat_coal_cleaned.head())"
   ]
  },
  {
   "cell_type": "markdown",
   "metadata": {},
   "source": [
    "* **Step 5**: Replace `:` with `np.nan`\n",
    "\n",
    "To replace all occurrences of `:` with `np.nan`, you can use the replace function:"
   ]
  },
  {
   "cell_type": "code",
   "execution_count": 20,
   "metadata": {},
   "outputs": [
    {
     "name": "stdout",
     "output_type": "stream",
     "text": [
      "       TIME 2016-01  2016-02  2016-03  2016-04  2016-05  2016-06  2016-07  \\\n",
      "2   Belgium     NaN      NaN      NaN      NaN      NaN      NaN      NaN   \n",
      "3  Bulgaria     NaN      NaN      NaN      NaN      NaN      NaN      NaN   \n",
      "4   Czechia     NaN      NaN      NaN      NaN      NaN      NaN      NaN   \n",
      "5   Denmark     NaN      NaN      NaN      NaN      NaN      NaN      NaN   \n",
      "6   Germany     NaN      NaN      NaN      NaN      NaN      NaN      NaN   \n",
      "\n",
      "   2016-08  2016-09  ...   2023-10    2023-11    2023-12    2024-01   2024-02  \\\n",
      "2      NaN      NaN  ...    70.669     64.240    100.765    152.345   175.176   \n",
      "3      NaN      NaN  ...   781.035    871.225   1043.759    905.171   583.303   \n",
      "4      NaN      NaN  ...  2610.974   2753.006   2762.875   2590.198  2245.389   \n",
      "5      NaN      NaN  ...    44.275    226.176    257.861    392.265   248.430   \n",
      "6      NaN      NaN  ...  9674.588  10947.152  10597.592  10536.739  8501.007   \n",
      "\n",
      "    2024-03   2024-04   2024-05  2024-06  2024-07  \n",
      "2   160.492   168.435   179.131      NaN      NaN  \n",
      "3   519.203   360.310   290.517      NaN      NaN  \n",
      "4  2159.708  1550.964  1480.491      NaN      NaN  \n",
      "5   276.518   148.599   100.237   82.366      NaN  \n",
      "6  8758.996  6004.850  5838.800      NaN      NaN  \n",
      "\n",
      "[5 rows x 104 columns]\n"
     ]
    },
    {
     "name": "stderr",
     "output_type": "stream",
     "text": [
      "/tmp/ipykernel_21406/2936782486.py:2: FutureWarning: Downcasting behavior in `replace` is deprecated and will be removed in a future version. To retain the old behavior, explicitly call `result.infer_objects(copy=False)`. To opt-in to the future behavior, set `pd.set_option('future.no_silent_downcasting', True)`\n",
      "  euroStat_coal_cleaned.replace(':', np.nan, inplace=True)\n"
     ]
    }
   ],
   "source": [
    "# Replace all occurrences of ':' with np.nan\n",
    "euroStat_coal_cleaned.replace(':', np.nan, inplace=True)\n",
    "\n",
    "# Display the DataFrame to confirm changes\n",
    "print(euroStat_coal_cleaned.head())"
   ]
  },
  {
   "cell_type": "markdown",
   "metadata": {},
   "source": [
    "* **Step 6**: Replace the Updated Data in SQLite Database\n",
    "\n",
    "After cleaning the data, you can update the SQLite database:"
   ]
  },
  {
   "cell_type": "code",
   "execution_count": null,
   "metadata": {},
   "outputs": [],
   "source": [
    "# Replace the table in the SQLite database with the updated data\n",
    "euroStat_coal_cleaned.to_sql('euroStat_coal', conn, if_exists='replace', index=False)\n",
    "\n",
    "# Commit the changes\n",
    "conn.commit()"
   ]
  },
  {
   "cell_type": "markdown",
   "metadata": {},
   "source": [
    "* **Step 4**: Query the Data to Confirm the Changes\n",
    "\n",
    "Finally, you can query the first few rows to verify that the columns were dropped and the values were replaced."
   ]
  },
  {
   "cell_type": "code",
   "execution_count": 22,
   "metadata": {},
   "outputs": [
    {
     "name": "stdout",
     "output_type": "stream",
     "text": [
      "       TIME 2016-01 Unnamed: 2 2016-02 Unnamed: 4 2016-03 Unnamed: 6 2016-04  \\\n",
      "0   Belgium       :       None       :       None       :       None       :   \n",
      "1  Bulgaria       :       None       :       None       :       None       :   \n",
      "2   Czechia       :       None       :       None       :       None       :   \n",
      "3   Denmark       :       None       :       None       :       None       :   \n",
      "4   Germany       :       None       :       None       :       None       :   \n",
      "\n",
      "  Unnamed: 8 2016-05  ... Unnamed: 196   2024-03 Unnamed: 198   2024-04  \\\n",
      "0       None       :  ...         None   160.492         None   168.435   \n",
      "1       None       :  ...         None   519.203         None    360.31   \n",
      "2       None       :  ...         None  2159.708         None  1550.964   \n",
      "3       None       :  ...         None   276.518         None   148.599   \n",
      "4       None       :  ...            e  8758.996            e   6004.85   \n",
      "\n",
      "  Unnamed: 200   2024-05 Unnamed: 202 2024-06 Unnamed: 204 2024-07  \n",
      "0         None   179.131         None       :         None       :  \n",
      "1         None   290.517         None       :         None       :  \n",
      "2         None  1480.491         None       :         None       :  \n",
      "3         None   100.237         None  82.366         None       :  \n",
      "4            e    5838.8            e       :         None       :  \n",
      "\n",
      "[5 rows x 206 columns]\n"
     ]
    }
   ],
   "source": [
    "# Query the first few rows from the cleaned euroStat_coal table\n",
    "df_coal_cleaned = pd.read_sql_query(\"SELECT * FROM euroStat_coal LIMIT 5;\", conn)\n",
    "\n",
    "# Display the data\n",
    "print(df_coal_cleaned)"
   ]
  },
  {
   "cell_type": "markdown",
   "metadata": {},
   "source": [
    "## Workflow Summary\n",
    "\n",
    "This workflow outlines the steps involved in loading energy production data from Eurostat into an SQLite database using Pandas and Python. The workflow then involves cleaning the data by removing specific rows, dropping unnecessary columns, and replacing invalid values (:) with NaN. Finally, the cleaned data is written back to the SQLite database and queried for verification.\n",
    "\n",
    "1.\t**Load Data from Excel**: Load energy production data from Eurostat .xlsx files into Pandas DataFrames.\n",
    "2.\t**Store Data in SQLite Database**: Write the DataFrame to an SQLite database.\n",
    "3.\t**Verify Table Creation**: Check if the data has been successfully added to the SQLite database.\n",
    "4.\t**Remove Rows**: Remove the first two rows (index 0 and 1) from the DataFrame.\n",
    "5.\t**Drop Unnecessary Columns**: Remove columns whose names start with “Unnamed”.\n",
    "6.\t**Replace Invalid Values**: Replace : with NaN in the DataFrame.\n",
    "7.\t**Update SQLite Database**: Replace the existing table in the SQLite database with the cleaned DataFrame.\n",
    "8.\t**Query and Verify**: Query the cleaned data from the SQLite database to verify that the cleaning steps were successful."
   ]
  },
  {
   "cell_type": "markdown",
   "metadata": {},
   "source": [
    "---"
   ]
  },
  {
   "cell_type": "code",
   "execution_count": null,
   "metadata": {},
   "outputs": [],
   "source": []
  },
  {
   "cell_type": "code",
   "execution_count": null,
   "metadata": {},
   "outputs": [],
   "source": []
  },
  {
   "cell_type": "markdown",
   "metadata": {},
   "source": [
    "# SQL + Pandas"
   ]
  },
  {
   "cell_type": "markdown",
   "metadata": {},
   "source": [
    "In this section we will cover a step-by-step example to integrate the energy production data stored in a database (SQLite) and then using Python to analyze and plot the data. This guide walks through each step, from loading CSV data into an SQLite database to querying and plotting the energy production data for different countries.\n",
    "\n",
    "This sections includes downloading the data from individual `.csv` files, loading them into a SQLite database, and visualizing the energy production using Python.\n",
    "\n",
    "This guide shows how to:\n",
    "1. Download CSV files from Eurostat.\n",
    "2. Load data into a SQLite database.\n",
    "3. Use Python to query and visualize the data."
   ]
  },
  {
   "cell_type": "markdown",
   "metadata": {},
   "source": [
    "## Step 1: Download the Data from Eurostat\n",
    "\n",
    "The datasets are available on the Eurostat website under [Energy Statistics](https://ec.europa.eu/eurostat/web/energy). Let’s assume the data files have been downloaded and stored in your `~/Downloads` folder as `.csv` files.\n",
    "\n",
    "For this example, we are using the following datasets:"
   ]
  },
  {
   "cell_type": "code",
   "execution_count": null,
   "metadata": {},
   "outputs": [],
   "source": [
    "import pandas as pd\n",
    "import sqlite3\n",
    "import os"
   ]
  },
  {
   "cell_type": "code",
   "execution_count": null,
   "metadata": {},
   "outputs": [],
   "source": [
    "euroStat_coal_filePath = '../data/section4/euroStat/nrg_cb_pem_page_spreadsheet_coal.xlsx'\n",
    "euroStat_nonRenewables_filePath = '../data/section4/euroStat/nrg_cb_pem_page_spreadsheet_combustionFuels_nonRenewables.xlsx'\n",
    "euroStat_renewables_filePath = '../data/section4/euroStat/nrg_cb_pem_page_spreadsheet_combustionFuels_Renewables.xlsx'\n",
    "euroStat_geothermal_filePath = '../data/section4/euroStat/nrg_cb_pem_page_spreadsheet_geothermal.xlsx'\n",
    "euroStat_hydro_filePath = '../data/section4/euroStat/nrg_cb_pem_page_spreadsheet_hydro.xlsx'\n",
    "euroStat_naturalGas_filePath = '../data/section4/euroStat/nrg_cb_pem_page_spreadsheet_naturalGas.xlsx'\n",
    "euroStat_nuclear_filePath = '../data/section4/euroStat/nrg_cb_pem_page_spreadsheet_nuclear.xlsx'\n",
    "euroStat_oil_filePath = '../data/section4/euroStat/nrg_cb_pem_page_spreadsheet_oil.xlsx'\n",
    "euro_otherRenewables_filePath = '../data/section4/euroStat/nrg_cb_pem_page_spreadsheet_otherRenewables.xlsx'\n",
    "euroStat_solar_filePath = '../data/section4/euroStat/nrg_cb_pem_page_spreadsheet_solar.xlsx'\n",
    "euroStat_wind_filePath = '../data/section4/euroStat/nrg_cb_pem_page_spreadsheet_wind.xlsx'"
   ]
  },
  {
   "cell_type": "markdown",
   "metadata": {},
   "source": [
    "## Step 2: Load Data into SQLite Database\n",
    "\n",
    "We'll now read the downloaded CSV files, clean the data, and store them in an SQLite database.\n"
   ]
  },
  {
   "cell_type": "markdown",
   "metadata": {},
   "source": [
    "### Python Code for Loading CSV Files into SQLite"
   ]
  },
  {
   "cell_type": "code",
   "execution_count": null,
   "metadata": {},
   "outputs": [],
   "source": [
    "# Load .xlsx file\n",
    "euroStat_coal = pd.read_excel(euroStat_coal_filePath, sheet_name='coal', skiprows=range(0, 8))\n",
    "euroStat_nonRenewables = pd.read_excel(euroStat_nonRenewables_filePath, sheet_name='nonRenewables', skiprows=range(0, 8))\n",
    "euroStat_renewables = pd.read_excel(euroStat_renewables_filePath, sheet_name='renewables', skiprows=range(0, 8))\n",
    "euroStat_geothermal = pd.read_excel(euroStat_geothermal_filePath, sheet_name='geothermal', skiprows=range(0, 8))\n",
    "euroStat_hydro = pd.read_excel(euroStat_hydro_filePath, sheet_name='hydro', skiprows=range(0, 8))\n",
    "euroStat_naturalGas = pd.read_excel(euroStat_naturalGas_filePath, sheet_name='naturalGas', skiprows=range(0, 8))\n",
    "euroStat_nuclear = pd.read_excel(euroStat_nuclear_filePath, sheet_name='nuclear', skiprows=range(0, 8))\n",
    "euroStat_oil = pd.read_excel(euroStat_oil_filePath, sheet_name='oil', skiprows=range(0, 8))\n",
    "euro_otherRenewables = pd.read_excel(euro_otherRenewables_filePath, sheet_name='otherRenewables', skiprows=range(0, 8))\n",
    "euroStat_solar = pd.read_excel(euroStat_solar_filePath, sheet_name='solar', skiprows=range(0, 8))\n",
    "euroStat_wind = pd.read_excel(euroStat_wind_filePath, sheet_name='wind', skiprows=range(0, 8))\n"
   ]
  },
  {
   "cell_type": "code",
   "execution_count": null,
   "metadata": {},
   "outputs": [
    {
     "data": {
      "text/html": [
       "<div>\n",
       "<style scoped>\n",
       "    .dataframe tbody tr th:only-of-type {\n",
       "        vertical-align: middle;\n",
       "    }\n",
       "\n",
       "    .dataframe tbody tr th {\n",
       "        vertical-align: top;\n",
       "    }\n",
       "\n",
       "    .dataframe thead th {\n",
       "        text-align: right;\n",
       "    }\n",
       "</style>\n",
       "<table border=\"1\" class=\"dataframe\">\n",
       "  <thead>\n",
       "    <tr style=\"text-align: right;\">\n",
       "      <th></th>\n",
       "      <th>TIME</th>\n",
       "      <th>2016-01</th>\n",
       "      <th>Unnamed: 2</th>\n",
       "      <th>2016-02</th>\n",
       "      <th>Unnamed: 4</th>\n",
       "      <th>2016-03</th>\n",
       "      <th>Unnamed: 6</th>\n",
       "      <th>2016-04</th>\n",
       "      <th>Unnamed: 8</th>\n",
       "      <th>2016-05</th>\n",
       "      <th>...</th>\n",
       "      <th>Unnamed: 196</th>\n",
       "      <th>2024-03</th>\n",
       "      <th>Unnamed: 198</th>\n",
       "      <th>2024-04</th>\n",
       "      <th>Unnamed: 200</th>\n",
       "      <th>2024-05</th>\n",
       "      <th>Unnamed: 202</th>\n",
       "      <th>2024-06</th>\n",
       "      <th>Unnamed: 204</th>\n",
       "      <th>2024-07</th>\n",
       "    </tr>\n",
       "  </thead>\n",
       "  <tbody>\n",
       "    <tr>\n",
       "      <th>0</th>\n",
       "      <td>GEO (Labels)</td>\n",
       "      <td>NaN</td>\n",
       "      <td>NaN</td>\n",
       "      <td>NaN</td>\n",
       "      <td>NaN</td>\n",
       "      <td>NaN</td>\n",
       "      <td>NaN</td>\n",
       "      <td>NaN</td>\n",
       "      <td>NaN</td>\n",
       "      <td>NaN</td>\n",
       "      <td>...</td>\n",
       "      <td>NaN</td>\n",
       "      <td>NaN</td>\n",
       "      <td>NaN</td>\n",
       "      <td>NaN</td>\n",
       "      <td>NaN</td>\n",
       "      <td>NaN</td>\n",
       "      <td>NaN</td>\n",
       "      <td>NaN</td>\n",
       "      <td>NaN</td>\n",
       "      <td>NaN</td>\n",
       "    </tr>\n",
       "    <tr>\n",
       "      <th>1</th>\n",
       "      <td>European Union - 27 countries (from 2020)</td>\n",
       "      <td>:</td>\n",
       "      <td>NaN</td>\n",
       "      <td>:</td>\n",
       "      <td>NaN</td>\n",
       "      <td>:</td>\n",
       "      <td>NaN</td>\n",
       "      <td>:</td>\n",
       "      <td>NaN</td>\n",
       "      <td>:</td>\n",
       "      <td>...</td>\n",
       "      <td>NaN</td>\n",
       "      <td>23110.523</td>\n",
       "      <td>NaN</td>\n",
       "      <td>:</td>\n",
       "      <td>NaN</td>\n",
       "      <td>:</td>\n",
       "      <td>NaN</td>\n",
       "      <td>:</td>\n",
       "      <td>NaN</td>\n",
       "      <td>:</td>\n",
       "    </tr>\n",
       "    <tr>\n",
       "      <th>2</th>\n",
       "      <td>Belgium</td>\n",
       "      <td>:</td>\n",
       "      <td>NaN</td>\n",
       "      <td>:</td>\n",
       "      <td>NaN</td>\n",
       "      <td>:</td>\n",
       "      <td>NaN</td>\n",
       "      <td>:</td>\n",
       "      <td>NaN</td>\n",
       "      <td>:</td>\n",
       "      <td>...</td>\n",
       "      <td>NaN</td>\n",
       "      <td>160.492</td>\n",
       "      <td>NaN</td>\n",
       "      <td>168.435</td>\n",
       "      <td>NaN</td>\n",
       "      <td>179.131</td>\n",
       "      <td>NaN</td>\n",
       "      <td>:</td>\n",
       "      <td>NaN</td>\n",
       "      <td>:</td>\n",
       "    </tr>\n",
       "    <tr>\n",
       "      <th>3</th>\n",
       "      <td>Bulgaria</td>\n",
       "      <td>:</td>\n",
       "      <td>NaN</td>\n",
       "      <td>:</td>\n",
       "      <td>NaN</td>\n",
       "      <td>:</td>\n",
       "      <td>NaN</td>\n",
       "      <td>:</td>\n",
       "      <td>NaN</td>\n",
       "      <td>:</td>\n",
       "      <td>...</td>\n",
       "      <td>NaN</td>\n",
       "      <td>519.203</td>\n",
       "      <td>NaN</td>\n",
       "      <td>360.31</td>\n",
       "      <td>NaN</td>\n",
       "      <td>290.517</td>\n",
       "      <td>NaN</td>\n",
       "      <td>:</td>\n",
       "      <td>NaN</td>\n",
       "      <td>:</td>\n",
       "    </tr>\n",
       "    <tr>\n",
       "      <th>4</th>\n",
       "      <td>Czechia</td>\n",
       "      <td>:</td>\n",
       "      <td>NaN</td>\n",
       "      <td>:</td>\n",
       "      <td>NaN</td>\n",
       "      <td>:</td>\n",
       "      <td>NaN</td>\n",
       "      <td>:</td>\n",
       "      <td>NaN</td>\n",
       "      <td>:</td>\n",
       "      <td>...</td>\n",
       "      <td>NaN</td>\n",
       "      <td>2159.708</td>\n",
       "      <td>NaN</td>\n",
       "      <td>1550.964</td>\n",
       "      <td>NaN</td>\n",
       "      <td>1480.491</td>\n",
       "      <td>NaN</td>\n",
       "      <td>:</td>\n",
       "      <td>NaN</td>\n",
       "      <td>:</td>\n",
       "    </tr>\n",
       "  </tbody>\n",
       "</table>\n",
       "<p>5 rows × 206 columns</p>\n",
       "</div>"
      ],
      "text/plain": [
       "                                        TIME 2016-01  Unnamed: 2 2016-02  \\\n",
       "0                               GEO (Labels)     NaN         NaN     NaN   \n",
       "1  European Union - 27 countries (from 2020)       :         NaN       :   \n",
       "2                                    Belgium       :         NaN       :   \n",
       "3                                   Bulgaria       :         NaN       :   \n",
       "4                                    Czechia       :         NaN       :   \n",
       "\n",
       "   Unnamed: 4 2016-03  Unnamed: 6 2016-04  Unnamed: 8 2016-05  ...  \\\n",
       "0         NaN     NaN         NaN     NaN         NaN     NaN  ...   \n",
       "1         NaN       :         NaN       :         NaN       :  ...   \n",
       "2         NaN       :         NaN       :         NaN       :  ...   \n",
       "3         NaN       :         NaN       :         NaN       :  ...   \n",
       "4         NaN       :         NaN       :         NaN       :  ...   \n",
       "\n",
       "   Unnamed: 196    2024-03  Unnamed: 198   2024-04  Unnamed: 200   2024-05  \\\n",
       "0           NaN        NaN           NaN       NaN           NaN       NaN   \n",
       "1           NaN  23110.523           NaN         :           NaN         :   \n",
       "2           NaN    160.492           NaN   168.435           NaN   179.131   \n",
       "3           NaN    519.203           NaN    360.31           NaN   290.517   \n",
       "4           NaN   2159.708           NaN  1550.964           NaN  1480.491   \n",
       "\n",
       "   Unnamed: 202 2024-06  Unnamed: 204 2024-07  \n",
       "0           NaN     NaN           NaN     NaN  \n",
       "1           NaN       :           NaN       :  \n",
       "2           NaN       :           NaN       :  \n",
       "3           NaN       :           NaN       :  \n",
       "4           NaN       :           NaN       :  \n",
       "\n",
       "[5 rows x 206 columns]"
      ]
     },
     "metadata": {},
     "output_type": "display_data"
    }
   ],
   "source": [
    "euroStat_coal.head()"
   ]
  },
  {
   "cell_type": "code",
   "execution_count": null,
   "metadata": {},
   "outputs": [],
   "source": [
    "# Connect to SQLite database (it will be created if it doesn't exist)\n",
    "conn = sqlite3.connect(db_path)\n",
    "cursor = conn.cursor()"
   ]
  },
  {
   "cell_type": "code",
   "execution_count": null,
   "metadata": {},
   "outputs": [
    {
     "data": {
      "text/plain": [
       "50"
      ]
     },
     "metadata": {},
     "output_type": "display_data"
    }
   ],
   "source": [
    "# Add the euroStat_coal dataset to the database using SQL\n",
    "euroStat_coal.to_sql('euroStat_coal', conn, if_exists='replace', index=False)"
   ]
  },
  {
   "cell_type": "code",
   "execution_count": null,
   "metadata": {},
   "outputs": [],
   "source": []
  },
  {
   "cell_type": "code",
   "execution_count": null,
   "metadata": {},
   "outputs": [],
   "source": []
  },
  {
   "cell_type": "code",
   "execution_count": null,
   "metadata": {},
   "outputs": [],
   "source": []
  },
  {
   "cell_type": "code",
   "execution_count": 3,
   "metadata": {},
   "outputs": [],
   "source": [
    "# Define file paths and dataset names\n",
    "datasets = ['coal', 'nonRenewables', 'renewables', 'geothermal', 'hydro', 'naturalGas', 'nuclear', 'oil', 'otherRenewables', 'solar', 'wind']\n",
    "data_path = os.path.expanduser('~/Downloads/')  # Path where the CSV files are downloaded\n",
    "db_path = 'energy_data.db'  # SQLite database file"
   ]
  },
  {
   "cell_type": "code",
   "execution_count": null,
   "metadata": {},
   "outputs": [],
   "source": [
    "\n",
    "\n",
    "\n",
    "for dataset in datasets:\n",
    "    # Load the CSV file into a pandas DataFrame\n",
    "    csv_file = os.path.join(data_path, f'{dataset}.csv')\n",
    "    df = pd.read_csv(csv_file, skiprows=1)  # Assuming the first row is metadata\n",
    "\n",
    "    # Rename columns properly (example: replace unnamed columns with actual month names)\n",
    "    df.columns = ['Country'] + [f'Month_{i+1}' for i in range(len(df.columns)-1)]\n",
    "\n",
    "    # Store each DataFrame in a table named after the dataset (e.g., 'wind', 'geothermal')\n",
    "    df.to_sql(dataset, conn, if_exists='replace', index=False)\n",
    "\n",
    "    print(f\"Data from {dataset}.csv loaded into the {dataset} table.\")\n",
    "\n",
    "# Commit and close the database connection\n",
    "conn.commit()\n",
    "conn.close()"
   ]
  },
  {
   "cell_type": "markdown",
   "metadata": {},
   "source": [
    "### Explanation:\n",
    "1. **Loading CSV Files**: We read each CSV file and load it into a pandas DataFrame, assuming the first row is metadata.\n",
    "2. **Cleaning Data**: We rename the columns, as some columns might be unnamed.\n",
    "3. **Storing in SQLite**: Each dataset is saved as a table in the SQLite database. For example, the `wind.csv` file will be saved in a table named `wind`."
   ]
  },
  {
   "cell_type": "markdown",
   "metadata": {},
   "source": [
    "## Step 3: Query and Analyze the Data\n",
    "\n",
    "Now that we’ve stored the data in an SQLite database, we can query it using SQL and visualize it in Python. Let’s start by analyzing and plotting the wind energy production data."
   ]
  },
  {
   "cell_type": "markdown",
   "metadata": {},
   "source": [
    "### Python Code for Querying and Plotting Wind Data"
   ]
  },
  {
   "cell_type": "code",
   "execution_count": null,
   "metadata": {},
   "outputs": [],
   "source": [
    "# Reconnect to the SQLite database\n",
    "conn = sqlite3.connect('energy_data.db')\n",
    "\n",
    "# Query wind energy data\n",
    "wind_query = \"\"\"\n",
    "SELECT * FROM wind;\n",
    "\"\"\"\n",
    "\n",
    "# Load the data into a pandas DataFrame\n",
    "wind_data = pd.read_sql_query(wind_query, conn)\n",
    "\n",
    "# Close the database connection\n",
    "conn.close()\n",
    "\n",
    "# Preview the data\n",
    "print(wind_data.head())\n",
    "\n",
    "# Example plotting wind energy production for Belgium\n",
    "country = 'Belgium'\n",
    "\n",
    "# Extract the data for Belgium (replace : and NaN values with 0 for simplicity)\n",
    "wind_belgium = wind_data[wind_data['Country'] == country].fillna(0)\n",
    "\n",
    "# Transpose to have months on x-axis\n",
    "months = wind_belgium.columns[1:]  # Skip the 'Country' column\n",
    "energy_values = wind_belgium.iloc[0, 1:]  # Skip the 'Country' column\n",
    "\n",
    "# Plotting the data\n",
    "plt.figure(figsize=(10, 6))\n",
    "plt.plot(months, energy_values, marker='o')\n",
    "plt.title(f'Wind Energy Production in {country} (MWh)')\n",
    "plt.xlabel('Months')\n",
    "plt.ylabel('Energy Generated (MWh)')\n",
    "plt.xticks(rotation=45)\n",
    "plt.grid(True)\n",
    "plt.tight_layout()\n",
    "plt.show()"
   ]
  },
  {
   "cell_type": "markdown",
   "metadata": {},
   "source": [
    "### Explanation:\n",
    "1. **Query Data**: We query the `wind` table and load the data into a pandas DataFrame.\n",
    "2. **Data Cleaning**: We fill missing values (`NaN` or `:` in the dataset) with `0` for simplicity.\n",
    "3. **Plotting**: We plot the wind energy production for Belgium over the months using `matplotlib`."
   ]
  },
  {
   "cell_type": "markdown",
   "metadata": {},
   "source": [
    "## Step 4: Plotting Energy Production for Multiple Countries\n",
    "\n",
    "You can extend this example to plot data for multiple countries or compare the production of different renewable energy sources."
   ]
  },
  {
   "cell_type": "markdown",
   "metadata": {},
   "source": [
    "### Example Code to Plot Energy Production for Multiple Countries"
   ]
  },
  {
   "cell_type": "code",
   "execution_count": null,
   "metadata": {},
   "outputs": [],
   "source": [
    "# Example for comparing wind energy production of Belgium, Germany, and Spain\n",
    "countries = ['Belgium', 'Germany', 'Spain']\n",
    "plt.figure(figsize=(10, 6))\n",
    "\n",
    "for country in countries:\n",
    "    country_data = wind_data[wind_data['Country'] == country].fillna(0)\n",
    "    energy_values = country_data.iloc[0, 1:]  # Skip the 'Country' column\n",
    "    \n",
    "    plt.plot(months, energy_values, marker='o', label=country)\n",
    "\n",
    "# Add labels, title, and legend\n",
    "plt.title('Wind Energy Production in Belgium, Germany, and Spain (MWh)')\n",
    "plt.xlabel('Months')\n",
    "plt.ylabel('Energy Generated (MWh)')\n",
    "plt.xticks(rotation=45)\n",
    "plt.legend()\n",
    "plt.grid(True)\n",
    "plt.tight_layout()\n",
    "plt.show()"
   ]
  },
  {
   "cell_type": "markdown",
   "metadata": {},
   "source": [
    "### Explanation:\n",
    "1. **Multiple Countries**: We loop through a list of countries (e.g., Belgium, Germany, Spain) and plot their wind energy production on the same graph for comparison."
   ]
  },
  {
   "cell_type": "markdown",
   "metadata": {},
   "source": [
    "## Workflow Summary\n",
    "\n",
    "1. **Downloading and Loading Data**: We downloaded the CSV files from Eurostat and loaded them into an SQLite database.\n",
    "2. **Querying the Database**: We queried specific tables from the database using SQL queries in Python.\n",
    "3. **Visualizing the Data**: We plotted the renewable energy production data (wind in this case) using matplotlib to visualize the monthly energy production for different countries.\n",
    "\n",
    "This approach allows you to easily handle large datasets, store them in a database, and perform complex analysis and visualization using Python."
   ]
  },
  {
   "cell_type": "markdown",
   "metadata": {},
   "source": [
    "\n",
    "## Summary\n",
    "\n",
    "In this section, we provided a detailed step-by-step guide to integrating renewable energy production data stored in an SQLite database with Python for data analysis and visualization. The process includes downloading CSV files from the Eurostat website, loading them into an SQLite database using Python, and then querying the data for analysis and visualization.\n",
    "\n",
    "## Key Points Covered:\n",
    "\n",
    "1.\tData Download and Preparation: We downloaded the relevant CSV files for different renewable energy sources (wind, solar, geothermal, hydro, etc.) from Eurostat and stored them locally.\n",
    "2.\tLoading Data into SQLite: The downloaded CSV files were cleaned and stored in an SQLite database using the pandas and sqlite3 libraries in Python. Each dataset was stored in its own table within the database.\n",
    "3.\tQuerying the Data: We queried the SQLite database for specific data (e.g., wind energy production) using SQL commands within Python.\n",
    "4.\tVisualizing Data: Using matplotlib, we created plots of the energy production data (e.g., wind energy production in Belgium) across different months.\n",
    "5.\tComparison Across Countries: We extended the example to compare the energy production of multiple countries on a single plot, allowing for better insights into trends and differences in renewable energy generation.\n",
    "\n",
    "## Lessons Learned\n",
    "\n",
    "1.\t**Handling Large Datasets**: By using `SQLite`, we can efficiently store and manage large datasets locally, allowing for easy querying and retrieval of data as needed.\n",
    "2.\t**Data Cleaning and Preparation**: Properly cleaning and formatting the data, such as renaming columns and filling missing values, is essential for accurate analysis.\n",
    "3.\t**SQL Integration with Python**: Using `SQL` within Python allows for powerful querying capabilities, which can be further extended by combining results with pandas for in-depth analysis.\n",
    "4.\t**Visualization**: Python’s `matplotlib` library makes it easy to create visual representations of the data, helping to uncover trends and insights from complex datasets.\n",
    "5.\t**Scalability**: The approach can be easily extended to more complex datasets, multiple energy sources, or multiple countries, providing a scalable solution for energy data analysis."
   ]
  }
 ],
 "metadata": {
  "language_info": {
   "name": "python"
  }
 },
 "nbformat": 4,
 "nbformat_minor": 2
}
